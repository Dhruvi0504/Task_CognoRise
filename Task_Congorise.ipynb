{
 "cells": [
  {
   "cell_type": "code",
   "execution_count": 2,
   "id": "6050d87c-f7c9-4216-93a9-7f3ed6ac120e",
   "metadata": {},
   "outputs": [],
   "source": [
    "import pandas as pd"
   ]
  },
  {
   "cell_type": "code",
   "execution_count": 3,
   "id": "b7e76f5d-fd88-42eb-9add-08d2e1ca4f22",
   "metadata": {},
   "outputs": [],
   "source": [
    "test_data = pd.read_csv(\"C:/Users/DHRUVI/Downloads/test.csv\")\n",
    "train_data = pd.read_csv(\"C:/Users/DHRUVI/Downloads/train.csv\")"
   ]
  },
  {
   "cell_type": "code",
   "execution_count": 4,
   "id": "16c4ff8f-2942-4874-8cfd-851aaf422a3f",
   "metadata": {},
   "outputs": [
    {
     "name": "stdout",
     "output_type": "stream",
     "text": [
      "     Roll no test preparation   gender parental level of education  \\\n",
      "0   EXA32000              none    male          associate's degree   \n",
      "1   EXA32001         completed    male            some high school   \n",
      "2   EXA32002              none    male            some high school   \n",
      "3   EXA32003         completed    male            some high school   \n",
      "4   EXA32004              none  female           bachelor's degree   \n",
      "..       ...               ...     ...                         ...   \n",
      "95  EXA32095              none    male           bachelor's degree   \n",
      "96  EXA32096         completed    male          associate's degree   \n",
      "97  EXA32097              none    male                some college   \n",
      "98  EXA32098         completed    male          associate's degree   \n",
      "99  EXA32099              none    male                 high school   \n",
      "\n",
      "           lunch    Section  practical score  viva score  \n",
      "0       standard  Section C               74          89  \n",
      "1       standard  Section E               66          75  \n",
      "2       standard  Section C               52          55  \n",
      "3       standard  Section D               69          85  \n",
      "4       standard  Section E               46          62  \n",
      "..           ...        ...              ...         ...  \n",
      "95      standard  Section B               82          84  \n",
      "96  free/reduced  Section B               70          58  \n",
      "97      standard  Section C               76          67  \n",
      "98      standard  Section A               62          71  \n",
      "99      standard  Section B               58          67  \n",
      "\n",
      "[100 rows x 8 columns]\n"
     ]
    }
   ],
   "source": [
    "print(test_data)"
   ]
  },
  {
   "cell_type": "code",
   "execution_count": 5,
   "id": "23f69206-feb6-41fd-916c-d28464c883a3",
   "metadata": {},
   "outputs": [
    {
     "name": "stdout",
     "output_type": "stream",
     "text": [
      "         Roll no test preparation   gender parental level of education  \\\n",
      "0      EXA000001              none    male                some college   \n",
      "1      EXA000002              none    male             master's degree   \n",
      "2      EXA000003              none    male             master's degree   \n",
      "3      EXA000004              none  female                some college   \n",
      "4      EXA000005              none  female                 high school   \n",
      "...          ...               ...     ...                         ...   \n",
      "31994  EXA031995              none    male            some high school   \n",
      "31995  EXA031996              none  female                 high school   \n",
      "31996  EXA031997              none    male           bachelor's degree   \n",
      "31997  EXA031998              none    male          associate's degree   \n",
      "31998  EXA031999              none    male            some high school   \n",
      "\n",
      "              lunch    Section  practical score  viva score  exam score  \n",
      "0          standard  Section A               70          73          70  \n",
      "1      free/reduced  Section C               55          54          52  \n",
      "2      free/reduced  Section E               56          46          43  \n",
      "3      free/reduced  Section C               35          47          41  \n",
      "4          standard  Section C               87          92          81  \n",
      "...             ...        ...              ...         ...         ...  \n",
      "31994  free/reduced  Section E               63          53          80  \n",
      "31995      standard  Section B              100          80          68  \n",
      "31996  free/reduced  Section B               62          61          74  \n",
      "31997      standard  Section D               75          32          82  \n",
      "31998      standard  Section C               51          92          82  \n",
      "\n",
      "[31999 rows x 9 columns]\n"
     ]
    }
   ],
   "source": [
    "print(train_data)"
   ]
  },
  {
   "cell_type": "code",
   "execution_count": 6,
   "id": "3dcf9cc0-fdfc-4cae-ab17-aaa1266e7f4e",
   "metadata": {},
   "outputs": [],
   "source": [
    "#merging two csv-test.csv and train.csv\n",
    "submission = pd.merge(test_data, train_data, how=\"outer\")\n",
    "submission.to_csv('C:/Users/DHRUVI/Downloads/submission.csv', index=False)"
   ]
  },
  {
   "cell_type": "code",
   "execution_count": 8,
   "id": "a185c5c8-3937-4535-aa5e-ab85a7a1f639",
   "metadata": {},
   "outputs": [
    {
     "data": {
      "text/html": [
       "<div>\n",
       "<style scoped>\n",
       "    .dataframe tbody tr th:only-of-type {\n",
       "        vertical-align: middle;\n",
       "    }\n",
       "\n",
       "    .dataframe tbody tr th {\n",
       "        vertical-align: top;\n",
       "    }\n",
       "\n",
       "    .dataframe thead th {\n",
       "        text-align: right;\n",
       "    }\n",
       "</style>\n",
       "<table border=\"1\" class=\"dataframe\">\n",
       "  <thead>\n",
       "    <tr style=\"text-align: right;\">\n",
       "      <th></th>\n",
       "      <th>Roll no</th>\n",
       "      <th>test preparation</th>\n",
       "      <th>gender</th>\n",
       "      <th>parental level of education</th>\n",
       "      <th>lunch</th>\n",
       "      <th>Section</th>\n",
       "      <th>practical score</th>\n",
       "      <th>viva score</th>\n",
       "      <th>exam score</th>\n",
       "    </tr>\n",
       "  </thead>\n",
       "  <tbody>\n",
       "    <tr>\n",
       "      <th>100</th>\n",
       "      <td>EXA000001</td>\n",
       "      <td>none</td>\n",
       "      <td>male</td>\n",
       "      <td>some college</td>\n",
       "      <td>standard</td>\n",
       "      <td>Section A</td>\n",
       "      <td>70</td>\n",
       "      <td>73</td>\n",
       "      <td>70.0</td>\n",
       "    </tr>\n",
       "    <tr>\n",
       "      <th>101</th>\n",
       "      <td>EXA000002</td>\n",
       "      <td>none</td>\n",
       "      <td>male</td>\n",
       "      <td>master's degree</td>\n",
       "      <td>free/reduced</td>\n",
       "      <td>Section C</td>\n",
       "      <td>55</td>\n",
       "      <td>54</td>\n",
       "      <td>52.0</td>\n",
       "    </tr>\n",
       "    <tr>\n",
       "      <th>102</th>\n",
       "      <td>EXA000003</td>\n",
       "      <td>none</td>\n",
       "      <td>male</td>\n",
       "      <td>master's degree</td>\n",
       "      <td>free/reduced</td>\n",
       "      <td>Section E</td>\n",
       "      <td>56</td>\n",
       "      <td>46</td>\n",
       "      <td>43.0</td>\n",
       "    </tr>\n",
       "    <tr>\n",
       "      <th>103</th>\n",
       "      <td>EXA000004</td>\n",
       "      <td>none</td>\n",
       "      <td>female</td>\n",
       "      <td>some college</td>\n",
       "      <td>free/reduced</td>\n",
       "      <td>Section C</td>\n",
       "      <td>35</td>\n",
       "      <td>47</td>\n",
       "      <td>41.0</td>\n",
       "    </tr>\n",
       "    <tr>\n",
       "      <th>104</th>\n",
       "      <td>EXA000005</td>\n",
       "      <td>none</td>\n",
       "      <td>female</td>\n",
       "      <td>high school</td>\n",
       "      <td>standard</td>\n",
       "      <td>Section C</td>\n",
       "      <td>87</td>\n",
       "      <td>92</td>\n",
       "      <td>81.0</td>\n",
       "    </tr>\n",
       "    <tr>\n",
       "      <th>...</th>\n",
       "      <td>...</td>\n",
       "      <td>...</td>\n",
       "      <td>...</td>\n",
       "      <td>...</td>\n",
       "      <td>...</td>\n",
       "      <td>...</td>\n",
       "      <td>...</td>\n",
       "      <td>...</td>\n",
       "      <td>...</td>\n",
       "    </tr>\n",
       "    <tr>\n",
       "      <th>32094</th>\n",
       "      <td>EXA031995</td>\n",
       "      <td>none</td>\n",
       "      <td>male</td>\n",
       "      <td>some high school</td>\n",
       "      <td>free/reduced</td>\n",
       "      <td>Section E</td>\n",
       "      <td>63</td>\n",
       "      <td>53</td>\n",
       "      <td>80.0</td>\n",
       "    </tr>\n",
       "    <tr>\n",
       "      <th>32095</th>\n",
       "      <td>EXA031996</td>\n",
       "      <td>none</td>\n",
       "      <td>female</td>\n",
       "      <td>high school</td>\n",
       "      <td>standard</td>\n",
       "      <td>Section B</td>\n",
       "      <td>100</td>\n",
       "      <td>80</td>\n",
       "      <td>68.0</td>\n",
       "    </tr>\n",
       "    <tr>\n",
       "      <th>32096</th>\n",
       "      <td>EXA031997</td>\n",
       "      <td>none</td>\n",
       "      <td>male</td>\n",
       "      <td>bachelor's degree</td>\n",
       "      <td>free/reduced</td>\n",
       "      <td>Section B</td>\n",
       "      <td>62</td>\n",
       "      <td>61</td>\n",
       "      <td>74.0</td>\n",
       "    </tr>\n",
       "    <tr>\n",
       "      <th>32097</th>\n",
       "      <td>EXA031998</td>\n",
       "      <td>none</td>\n",
       "      <td>male</td>\n",
       "      <td>associate's degree</td>\n",
       "      <td>standard</td>\n",
       "      <td>Section D</td>\n",
       "      <td>75</td>\n",
       "      <td>32</td>\n",
       "      <td>82.0</td>\n",
       "    </tr>\n",
       "    <tr>\n",
       "      <th>32098</th>\n",
       "      <td>EXA031999</td>\n",
       "      <td>none</td>\n",
       "      <td>male</td>\n",
       "      <td>some high school</td>\n",
       "      <td>standard</td>\n",
       "      <td>Section C</td>\n",
       "      <td>51</td>\n",
       "      <td>92</td>\n",
       "      <td>82.0</td>\n",
       "    </tr>\n",
       "  </tbody>\n",
       "</table>\n",
       "<p>31999 rows × 9 columns</p>\n",
       "</div>"
      ],
      "text/plain": [
       "         Roll no test preparation   gender parental level of education  \\\n",
       "100    EXA000001              none    male                some college   \n",
       "101    EXA000002              none    male             master's degree   \n",
       "102    EXA000003              none    male             master's degree   \n",
       "103    EXA000004              none  female                some college   \n",
       "104    EXA000005              none  female                 high school   \n",
       "...          ...               ...     ...                         ...   \n",
       "32094  EXA031995              none    male            some high school   \n",
       "32095  EXA031996              none  female                 high school   \n",
       "32096  EXA031997              none    male           bachelor's degree   \n",
       "32097  EXA031998              none    male          associate's degree   \n",
       "32098  EXA031999              none    male            some high school   \n",
       "\n",
       "              lunch    Section  practical score  viva score  exam score  \n",
       "100        standard  Section A               70          73        70.0  \n",
       "101    free/reduced  Section C               55          54        52.0  \n",
       "102    free/reduced  Section E               56          46        43.0  \n",
       "103    free/reduced  Section C               35          47        41.0  \n",
       "104        standard  Section C               87          92        81.0  \n",
       "...             ...        ...              ...         ...         ...  \n",
       "32094  free/reduced  Section E               63          53        80.0  \n",
       "32095      standard  Section B              100          80        68.0  \n",
       "32096  free/reduced  Section B               62          61        74.0  \n",
       "32097      standard  Section D               75          32        82.0  \n",
       "32098      standard  Section C               51          92        82.0  \n",
       "\n",
       "[31999 rows x 9 columns]"
      ]
     },
     "execution_count": 8,
     "metadata": {},
     "output_type": "execute_result"
    }
   ],
   "source": [
    "data = submission.dropna()\n",
    "data"
   ]
  },
  {
   "cell_type": "code",
   "execution_count": 9,
   "id": "8c293227-02be-40d6-bac1-7eb3eb1110c7",
   "metadata": {},
   "outputs": [
    {
     "name": "stdout",
     "output_type": "stream",
     "text": [
      "0        False\n",
      "1        False\n",
      "2        False\n",
      "3        False\n",
      "4        False\n",
      "         ...  \n",
      "32094    False\n",
      "32095    False\n",
      "32096    False\n",
      "32097    False\n",
      "32098    False\n",
      "Length: 32099, dtype: bool\n"
     ]
    }
   ],
   "source": [
    "print(submission.duplicated())"
   ]
  },
  {
   "cell_type": "code",
   "execution_count": 10,
   "id": "ef6a7b91-5243-463e-a988-3f0f802fbe89",
   "metadata": {},
   "outputs": [
    {
     "data": {
      "text/plain": [
       "67.83161469204649"
      ]
     },
     "execution_count": 10,
     "metadata": {},
     "output_type": "execute_result"
    }
   ],
   "source": [
    "#finding mean of practical score\n",
    "Mean = submission[\"practical score\"].mean()\n",
    "Mean"
   ]
  },
  {
   "cell_type": "code",
   "execution_count": 11,
   "id": "335b5b37-31be-4111-aaf7-4fb953de64a5",
   "metadata": {},
   "outputs": [
    {
     "data": {
      "text/plain": [
       "68.0"
      ]
     },
     "execution_count": 11,
     "metadata": {},
     "output_type": "execute_result"
    }
   ],
   "source": [
    "#finding median of practical score\n",
    "Median = submission[\"practical score\"].median()\n",
    "Median"
   ]
  },
  {
   "cell_type": "code",
   "execution_count": 12,
   "id": "9d605585-bb48-4f8c-8ca4-6b1d5329d249",
   "metadata": {},
   "outputs": [
    {
     "data": {
      "text/plain": [
       "62"
      ]
     },
     "execution_count": 12,
     "metadata": {},
     "output_type": "execute_result"
    }
   ],
   "source": [
    "#finding mode of practical score\n",
    "Mode = submission[\"practical score\"].mode()[0]\n",
    "Mode"
   ]
  },
  {
   "cell_type": "code",
   "execution_count": 13,
   "id": "a3aceb90-2e47-4b1d-af11-80c240531ebb",
   "metadata": {},
   "outputs": [
    {
     "data": {
      "text/plain": [
       "70.37072806006418"
      ]
     },
     "execution_count": 13,
     "metadata": {},
     "output_type": "execute_result"
    }
   ],
   "source": [
    "#finding mean of viva score\n",
    "Mean = submission[\"viva score\"].mean()\n",
    "Mean"
   ]
  },
  {
   "cell_type": "code",
   "execution_count": 14,
   "id": "afc447bd-289a-4961-9346-f7f4d128853b",
   "metadata": {},
   "outputs": [
    {
     "data": {
      "text/plain": [
       "70.0"
      ]
     },
     "execution_count": 14,
     "metadata": {},
     "output_type": "execute_result"
    }
   ],
   "source": [
    "#finding median of viva score\n",
    "Median = submission[\"viva score\"].median()\n",
    "Median"
   ]
  },
  {
   "cell_type": "code",
   "execution_count": 15,
   "id": "89644ec1-e85a-4fac-885b-2f9aa09ec45c",
   "metadata": {},
   "outputs": [
    {
     "data": {
      "text/plain": [
       "72"
      ]
     },
     "execution_count": 15,
     "metadata": {},
     "output_type": "execute_result"
    }
   ],
   "source": [
    "#finding mode of viva score\n",
    "Mode = submission[\"viva score\"].mode()[0]\n",
    "Mode"
   ]
  },
  {
   "cell_type": "code",
   "execution_count": 16,
   "id": "d0f40584-b0eb-43d6-b191-96c687758224",
   "metadata": {},
   "outputs": [],
   "source": [
    "# Sort by 'Score' in ascending order\n",
    "sorted_vivascore = submission.sort_values(by='viva score', ascending=True)\n",
    "sorted_practicalscore = submission.sort_values(by='practical score', ascending=True)"
   ]
  },
  {
   "cell_type": "code",
   "execution_count": 17,
   "id": "e3d3a77c-b589-4834-b31c-bdff6c83a3bc",
   "metadata": {},
   "outputs": [],
   "source": [
    "from sklearn.model_selection import train_test_split\n",
    "from sklearn.neighbors import KNeighborsClassifier\n",
    "from sklearn.preprocessing import LabelEncoder\n",
    "from sklearn.metrics import accuracy_score, confusion_matrix, ConfusionMatrixDisplay ,f1_score, precision_score, recall_score, classification_report "
   ]
  },
  {
   "cell_type": "code",
   "execution_count": 18,
   "id": "f3bc158e-b141-4bf8-a310-18acdedddb2d",
   "metadata": {},
   "outputs": [],
   "source": [
    "submission.loc[submission['lunch'] == 'free/reduced', 'lunch'] = \"free\""
   ]
  },
  {
   "cell_type": "code",
   "execution_count": 19,
   "id": "5ac93ecf-d031-4761-acf3-b3decd7b5920",
   "metadata": {},
   "outputs": [
    {
     "data": {
      "text/plain": [
       "array([[74, 89],\n",
       "       [66, 75],\n",
       "       [52, 55],\n",
       "       ...,\n",
       "       [62, 61],\n",
       "       [75, 32],\n",
       "       [51, 92]], dtype=int64)"
      ]
     },
     "execution_count": 19,
     "metadata": {},
     "output_type": "execute_result"
    }
   ],
   "source": [
    "x = submission.iloc[:,6:8].values\n",
    "x"
   ]
  },
  {
   "cell_type": "code",
   "execution_count": 20,
   "id": "6d87f371-362b-4840-a7cd-1961d7c2e0ee",
   "metadata": {},
   "outputs": [
    {
     "data": {
      "text/plain": [
       "array(['standard', 'standard', 'standard', ..., 'free', 'standard',\n",
       "       'standard'], dtype=object)"
      ]
     },
     "execution_count": 20,
     "metadata": {},
     "output_type": "execute_result"
    }
   ],
   "source": [
    "y = submission.iloc[:,4].values\n",
    "y"
   ]
  },
  {
   "cell_type": "code",
   "execution_count": 21,
   "id": "a2daf6d3-e480-42a3-8a9e-b440023175d0",
   "metadata": {},
   "outputs": [
    {
     "data": {
      "text/plain": [
       "array([[78, 44],\n",
       "       [72, 74],\n",
       "       [67, 45],\n",
       "       ...,\n",
       "       [55, 86],\n",
       "       [57, 76],\n",
       "       [69, 79]], dtype=int64)"
      ]
     },
     "execution_count": 21,
     "metadata": {},
     "output_type": "execute_result"
    }
   ],
   "source": [
    "#spliting the dataset \n",
    "\n",
    "x_train, x_test, y_train, y_test = train_test_split(x, y, test_size=0.2, random_state = 108)\n",
    "x_train"
   ]
  },
  {
   "cell_type": "code",
   "execution_count": 22,
   "id": "e105a549-e2c7-4d80-b9be-e686828e625b",
   "metadata": {},
   "outputs": [
    {
     "data": {
      "text/plain": [
       "array([[85, 52],\n",
       "       [94, 81],\n",
       "       [69, 62],\n",
       "       ...,\n",
       "       [77, 58],\n",
       "       [79, 80],\n",
       "       [74, 93]], dtype=int64)"
      ]
     },
     "execution_count": 22,
     "metadata": {},
     "output_type": "execute_result"
    }
   ],
   "source": [
    "x_test"
   ]
  },
  {
   "cell_type": "code",
   "execution_count": 23,
   "id": "fa4c2ce0-5596-4889-b4bf-ef5dcc2c5b1d",
   "metadata": {},
   "outputs": [
    {
     "data": {
      "text/plain": [
       "array(['standard', 'standard', 'standard', ..., 'standard', 'free',\n",
       "       'free'], dtype=object)"
      ]
     },
     "execution_count": 23,
     "metadata": {},
     "output_type": "execute_result"
    }
   ],
   "source": [
    "y_train"
   ]
  },
  {
   "cell_type": "code",
   "execution_count": 24,
   "id": "ca731a89-3982-47c5-9e5a-4347363b3506",
   "metadata": {},
   "outputs": [
    {
     "data": {
      "text/plain": [
       "array(['standard', 'standard', 'standard', ..., 'standard', 'standard',\n",
       "       'free'], dtype=object)"
      ]
     },
     "execution_count": 24,
     "metadata": {},
     "output_type": "execute_result"
    }
   ],
   "source": [
    "y_test"
   ]
  },
  {
   "cell_type": "code",
   "execution_count": 25,
   "id": "ca83c971-3ef0-472a-83f9-176165256d9f",
   "metadata": {},
   "outputs": [
    {
     "data": {
      "text/plain": [
       "Roll no                          0\n",
       "test preparation                 0\n",
       "gender                           0\n",
       "parental level of education      0\n",
       "lunch                            0\n",
       "Section                          0\n",
       "practical score                  0\n",
       "viva score                       0\n",
       "exam score                     100\n",
       "dtype: int64"
      ]
     },
     "execution_count": 25,
     "metadata": {},
     "output_type": "execute_result"
    }
   ],
   "source": [
    "#handling missing values\n",
    "\n",
    "missing_values = submission.isna().sum()\n",
    "missing_values "
   ]
  },
  {
   "cell_type": "code",
   "execution_count": 26,
   "id": "32a36c7d-4520-4409-8eff-bbd3847daf18",
   "metadata": {},
   "outputs": [
    {
     "data": {
      "text/plain": [
       "array([1, 1, 1, ..., 0, 1, 1])"
      ]
     },
     "execution_count": 26,
     "metadata": {},
     "output_type": "execute_result"
    }
   ],
   "source": [
    "#transforming categorial variables into numerical representation\n",
    "\n",
    "LB = LabelEncoder()\n",
    "Y = LB.fit_transform(y)\n",
    "Y"
   ]
  },
  {
   "cell_type": "code",
   "execution_count": 27,
   "id": "07e5a53d-112d-4dba-88d6-5045b2bf2598",
   "metadata": {},
   "outputs": [
    {
     "data": {
      "text/html": [
       "<style>#sk-container-id-1 {color: black;}#sk-container-id-1 pre{padding: 0;}#sk-container-id-1 div.sk-toggleable {background-color: white;}#sk-container-id-1 label.sk-toggleable__label {cursor: pointer;display: block;width: 100%;margin-bottom: 0;padding: 0.3em;box-sizing: border-box;text-align: center;}#sk-container-id-1 label.sk-toggleable__label-arrow:before {content: \"▸\";float: left;margin-right: 0.25em;color: #696969;}#sk-container-id-1 label.sk-toggleable__label-arrow:hover:before {color: black;}#sk-container-id-1 div.sk-estimator:hover label.sk-toggleable__label-arrow:before {color: black;}#sk-container-id-1 div.sk-toggleable__content {max-height: 0;max-width: 0;overflow: hidden;text-align: left;background-color: #f0f8ff;}#sk-container-id-1 div.sk-toggleable__content pre {margin: 0.2em;color: black;border-radius: 0.25em;background-color: #f0f8ff;}#sk-container-id-1 input.sk-toggleable__control:checked~div.sk-toggleable__content {max-height: 200px;max-width: 100%;overflow: auto;}#sk-container-id-1 input.sk-toggleable__control:checked~label.sk-toggleable__label-arrow:before {content: \"▾\";}#sk-container-id-1 div.sk-estimator input.sk-toggleable__control:checked~label.sk-toggleable__label {background-color: #d4ebff;}#sk-container-id-1 div.sk-label input.sk-toggleable__control:checked~label.sk-toggleable__label {background-color: #d4ebff;}#sk-container-id-1 input.sk-hidden--visually {border: 0;clip: rect(1px 1px 1px 1px);clip: rect(1px, 1px, 1px, 1px);height: 1px;margin: -1px;overflow: hidden;padding: 0;position: absolute;width: 1px;}#sk-container-id-1 div.sk-estimator {font-family: monospace;background-color: #f0f8ff;border: 1px dotted black;border-radius: 0.25em;box-sizing: border-box;margin-bottom: 0.5em;}#sk-container-id-1 div.sk-estimator:hover {background-color: #d4ebff;}#sk-container-id-1 div.sk-parallel-item::after {content: \"\";width: 100%;border-bottom: 1px solid gray;flex-grow: 1;}#sk-container-id-1 div.sk-label:hover label.sk-toggleable__label {background-color: #d4ebff;}#sk-container-id-1 div.sk-serial::before {content: \"\";position: absolute;border-left: 1px solid gray;box-sizing: border-box;top: 0;bottom: 0;left: 50%;z-index: 0;}#sk-container-id-1 div.sk-serial {display: flex;flex-direction: column;align-items: center;background-color: white;padding-right: 0.2em;padding-left: 0.2em;position: relative;}#sk-container-id-1 div.sk-item {position: relative;z-index: 1;}#sk-container-id-1 div.sk-parallel {display: flex;align-items: stretch;justify-content: center;background-color: white;position: relative;}#sk-container-id-1 div.sk-item::before, #sk-container-id-1 div.sk-parallel-item::before {content: \"\";position: absolute;border-left: 1px solid gray;box-sizing: border-box;top: 0;bottom: 0;left: 50%;z-index: -1;}#sk-container-id-1 div.sk-parallel-item {display: flex;flex-direction: column;z-index: 1;position: relative;background-color: white;}#sk-container-id-1 div.sk-parallel-item:first-child::after {align-self: flex-end;width: 50%;}#sk-container-id-1 div.sk-parallel-item:last-child::after {align-self: flex-start;width: 50%;}#sk-container-id-1 div.sk-parallel-item:only-child::after {width: 0;}#sk-container-id-1 div.sk-dashed-wrapped {border: 1px dashed gray;margin: 0 0.4em 0.5em 0.4em;box-sizing: border-box;padding-bottom: 0.4em;background-color: white;}#sk-container-id-1 div.sk-label label {font-family: monospace;font-weight: bold;display: inline-block;line-height: 1.2em;}#sk-container-id-1 div.sk-label-container {text-align: center;}#sk-container-id-1 div.sk-container {/* jupyter's `normalize.less` sets `[hidden] { display: none; }` but bootstrap.min.css set `[hidden] { display: none !important; }` so we also need the `!important` here to be able to override the default hidden behavior on the sphinx rendered scikit-learn.org. See: https://github.com/scikit-learn/scikit-learn/issues/21755 */display: inline-block !important;position: relative;}#sk-container-id-1 div.sk-text-repr-fallback {display: none;}</style><div id=\"sk-container-id-1\" class=\"sk-top-container\"><div class=\"sk-text-repr-fallback\"><pre>KNeighborsClassifier()</pre><b>In a Jupyter environment, please rerun this cell to show the HTML representation or trust the notebook. <br />On GitHub, the HTML representation is unable to render, please try loading this page with nbviewer.org.</b></div><div class=\"sk-container\" hidden><div class=\"sk-item\"><div class=\"sk-estimator sk-toggleable\"><input class=\"sk-toggleable__control sk-hidden--visually\" id=\"sk-estimator-id-1\" type=\"checkbox\" checked><label for=\"sk-estimator-id-1\" class=\"sk-toggleable__label sk-toggleable__label-arrow\">KNeighborsClassifier</label><div class=\"sk-toggleable__content\"><pre>KNeighborsClassifier()</pre></div></div></div></div></div>"
      ],
      "text/plain": [
       "KNeighborsClassifier()"
      ]
     },
     "execution_count": 27,
     "metadata": {},
     "output_type": "execute_result"
    }
   ],
   "source": [
    "#implementing the classification\n",
    "\n",
    "knn = KNeighborsClassifier()\n",
    "model = knn.fit(x_train, y_train)\n",
    "model"
   ]
  },
  {
   "cell_type": "code",
   "execution_count": 28,
   "id": "da60311b-7aee-44e4-9fd0-96c2b4a9f2c8",
   "metadata": {},
   "outputs": [
    {
     "data": {
      "text/plain": [
       "array(['standard', 'standard', 'standard', ..., 'free', 'standard',\n",
       "       'standard'], dtype=object)"
      ]
     },
     "execution_count": 28,
     "metadata": {},
     "output_type": "execute_result"
    }
   ],
   "source": [
    "y_prediction = model.predict(x_test)\n",
    "y_prediction"
   ]
  },
  {
   "cell_type": "code",
   "execution_count": 29,
   "id": "0eaec56e-a474-4692-ae37-6dd85c9f16b9",
   "metadata": {},
   "outputs": [
    {
     "data": {
      "text/plain": [
       "0.6101246105919003"
      ]
     },
     "execution_count": 29,
     "metadata": {},
     "output_type": "execute_result"
    }
   ],
   "source": [
    "knn.score(x_test, y_test)"
   ]
  },
  {
   "cell_type": "code",
   "execution_count": 30,
   "id": "0aca2cd5-c83a-4d49-b98b-53826329216f",
   "metadata": {},
   "outputs": [
    {
     "data": {
      "text/plain": [
       "0.6101246105919003"
      ]
     },
     "execution_count": 30,
     "metadata": {},
     "output_type": "execute_result"
    }
   ],
   "source": [
    "#accuracy score\n",
    "\n",
    "accuracy_score(y_test, y_prediction)"
   ]
  },
  {
   "cell_type": "code",
   "execution_count": 31,
   "id": "883263ee-1e42-48e4-bc12-0264944779f2",
   "metadata": {},
   "outputs": [
    {
     "data": {
      "text/plain": [
       "array([[ 509, 1630],\n",
       "       [ 873, 3408]], dtype=int64)"
      ]
     },
     "execution_count": 31,
     "metadata": {},
     "output_type": "execute_result"
    }
   ],
   "source": [
    "#confusion matrix\n",
    "\n",
    "cm = confusion_matrix(y_test, y_prediction)\n",
    "cm"
   ]
  },
  {
   "cell_type": "code",
   "execution_count": 32,
   "id": "700f6307-b1f8-460a-9122-1acb0fa857d9",
   "metadata": {},
   "outputs": [
    {
     "data": {
      "text/plain": [
       "0.5737895408611635"
      ]
     },
     "execution_count": 32,
     "metadata": {},
     "output_type": "execute_result"
    }
   ],
   "source": [
    "#precision score\n",
    "\n",
    "precision_score(y_test, y_prediction, average = 'weighted')"
   ]
  },
  {
   "cell_type": "code",
   "execution_count": 33,
   "id": "066a643e-6432-493c-b6f3-7b9a11cf11ef",
   "metadata": {},
   "outputs": [
    {
     "data": {
      "text/plain": [
       "0.6101246105919003"
      ]
     },
     "execution_count": 33,
     "metadata": {},
     "output_type": "execute_result"
    }
   ],
   "source": [
    "#recall score\n",
    "\n",
    "recall_score(y_test, y_prediction, average = 'weighted')"
   ]
  },
  {
   "cell_type": "code",
   "execution_count": 34,
   "id": "6c2681c7-bb07-4769-9cad-ea77de5635e0",
   "metadata": {},
   "outputs": [
    {
     "data": {
      "text/plain": [
       "0.5840489944255526"
      ]
     },
     "execution_count": 34,
     "metadata": {},
     "output_type": "execute_result"
    }
   ],
   "source": [
    "#F1 score\n",
    "\n",
    "f1_score(y_test, y_prediction, average = 'weighted')"
   ]
  },
  {
   "cell_type": "code",
   "execution_count": 35,
   "id": "2fcb7bf0-6b1b-4e56-b5c6-0315a0bb3230",
   "metadata": {},
   "outputs": [
    {
     "data": {
      "text/plain": [
       "'              precision    recall  f1-score   support\\n\\n        free       0.37      0.24      0.29      2139\\n    standard       0.68      0.80      0.73      4281\\n\\n    accuracy                           0.61      6420\\n   macro avg       0.52      0.52      0.51      6420\\nweighted avg       0.57      0.61      0.58      6420\\n'"
      ]
     },
     "execution_count": 35,
     "metadata": {},
     "output_type": "execute_result"
    }
   ],
   "source": [
    "#classification_report\n",
    "\n",
    "classification_report(y_test, y_prediction)"
   ]
  },
  {
   "cell_type": "code",
   "execution_count": 36,
   "id": "02e5d8f3-71bb-4300-8f19-d92ccd12538a",
   "metadata": {},
   "outputs": [
    {
     "data": {
      "text/plain": [
       "<sklearn.metrics._plot.confusion_matrix.ConfusionMatrixDisplay at 0x23379c56c90>"
      ]
     },
     "execution_count": 36,
     "metadata": {},
     "output_type": "execute_result"
    },
    {
     "data": {
      "image/png": "[encoded data removed]",
      "text/plain": [
       "<Figure size 640x480 with 2 Axes>"
      ]
     },
     "metadata": {},
     "output_type": "display_data"
    }
   ],
   "source": [
    "#Plotting graph\n",
    "from sklearn.metrics import ConfusionMatrixDisplay\n",
    "display = ConfusionMatrixDisplay(confusion_matrix=cm)\n",
    "display.plot()"
   ]
  },
  {
   "cell_type": "code",
   "execution_count": 37,
   "id": "a5c22f3a-c1b0-4a8f-8982-f8f94a97b84c",
   "metadata": {},
   "outputs": [
    {
     "data": {
      "image/png": "[encoded data removed]",
      "text/plain": [
       "<Figure size 1000x600 with 1 Axes>"
      ]
     },
     "metadata": {},
     "output_type": "display_data"
    }
   ],
   "source": [
    "import matplotlib.pyplot as plt\n",
    "plt.figure(figsize=(10, 6))\n",
    "top_20_data_score = sorted_vivascore.head(51)\n",
    "top_20_data_section = submission['Section'].head(51)\n",
    "plt.plot(top_20_data_section, top_20_data_score['viva score'], marker='o', linestyle='-', color='b', label='Line Plot')\n",
    "plt.xlabel('Section')\n",
    "plt.ylabel('Viva score')\n",
    "plt.title('Line graph representing first 20 students viva score')\n",
    "plt.legend()\n",
    "plt.grid(True)\n",
    "plt.show()"
   ]
  },
  {
   "cell_type": "code",
   "execution_count": 38,
   "id": "1322a8d3-ea16-47be-b763-c25f80ee1d3a",
   "metadata": {},
   "outputs": [
    {
     "data": {
      "image/png": "[encoded data removed]",
      "text/plain": [
       "<Figure size 1000x600 with 1 Axes>"
      ]
     },
     "metadata": {},
     "output_type": "display_data"
    }
   ],
   "source": [
    "plt.figure(figsize=(10, 6))\n",
    "top_20_data_score = sorted_practicalscore.head(51)\n",
    "top_20_data_section = submission['Section'].head(51)\n",
    "plt.scatter(top_20_data_section, top_20_data_score['practical score'], marker='o', color='red', label='Scatter')\n",
    "plt.xlabel('Setion')\n",
    "plt.ylabel('Practical Score')\n",
    "plt.title('Scatter plot representing first 20 students viva score')\n",
    "plt.legend()\n",
    "plt.grid(True)\n",
    "plt.show()"
   ]
  },
  {
   "cell_type": "code",
   "execution_count": 40,
   "id": "253a008d-2c0b-4ba3-9928-55c6a03c6990",
   "metadata": {},
   "outputs": [
    {
     "data": {
      "text/plain": [
       "array(['standard', 'standard', 'standard', ..., 'standard', 'standard',\n",
       "       'standard'], dtype=object)"
      ]
     },
     "execution_count": 40,
     "metadata": {},
     "output_type": "execute_result"
    }
   ],
   "source": [
    "from sklearn import svm\n",
    "svm = svm.SVC(kernel='linear')\n",
    "model = svm.fit(x_train,y_train)\n",
    "y_prediction = model.predict(x_test)\n",
    "y_prediction"
   ]
  },
  {
   "cell_type": "code",
   "execution_count": 41,
   "id": "d52aad31-9363-446a-8575-f39e11b621ef",
   "metadata": {},
   "outputs": [
    {
     "data": {
      "text/plain": [
       "0.6668224299065421"
      ]
     },
     "execution_count": 41,
     "metadata": {},
     "output_type": "execute_result"
    }
   ],
   "source": [
    "accuracy_score(y_test,y_prediction,normalize=True)"
   ]
  },
  {
   "cell_type": "code",
   "execution_count": 42,
   "id": "5a7121cf-64f3-4fd6-b40a-9a5214ce16a1",
   "metadata": {},
   "outputs": [
    {
     "data": {
      "text/plain": [
       "array([[   0, 2139],\n",
       "       [   0, 4281]], dtype=int64)"
      ]
     },
     "execution_count": 42,
     "metadata": {},
     "output_type": "execute_result"
    }
   ],
   "source": [
    "cm=confusion_matrix(y_test,y_prediction)\n",
    "cm"
   ]
  },
  {
   "cell_type": "code",
   "execution_count": 43,
   "id": "ec61b362-dc91-457d-bab7-462e3aafdcaf",
   "metadata": {},
   "outputs": [
    {
     "name": "stdout",
     "output_type": "stream",
     "text": [
      "0.44465215302646516\n"
     ]
    },
    {
     "name": "stderr",
     "output_type": "stream",
     "text": [
      "C:\\Users\\DHRUVI\\anaconda3\\Lib\\site-packages\\sklearn\\metrics\\_classification.py:1469: UndefinedMetricWarning: Precision is ill-defined and being set to 0.0 in labels with no predicted samples. Use `zero_division` parameter to control this behavior.\n",
      "  _warn_prf(average, modifier, msg_start, len(result))\n"
     ]
    }
   ],
   "source": [
    "svm_precision = precision_score(y_test,y_prediction,average=\"weighted\")\n",
    "print(svm_precision)"
   ]
  },
  {
   "cell_type": "code",
   "execution_count": 44,
   "id": "df5c0d62-09fc-4311-a5f8-74af8355255b",
   "metadata": {},
   "outputs": [
    {
     "name": "stdout",
     "output_type": "stream",
     "text": [
      "0.6668224299065421\n"
     ]
    }
   ],
   "source": [
    "svm_recall = recall_score(y_test,y_prediction,average=\"weighted\")\n",
    "print(svm_recall)"
   ]
  },
  {
   "cell_type": "code",
   "execution_count": 45,
   "id": "90f5f7b5-6e0a-4f25-add0-ee66f91949f9",
   "metadata": {},
   "outputs": [
    {
     "name": "stdout",
     "output_type": "stream",
     "text": [
      "0.533532720760659\n"
     ]
    }
   ],
   "source": [
    "svm_f1 = f1_score(y_test,y_prediction,average='weighted')\n",
    "print(svm_f1)"
   ]
  },
  {
   "cell_type": "code",
   "execution_count": 49,
   "id": "f26c5bd5-06fe-4339-a5e3-446445820da5",
   "metadata": {},
   "outputs": [
    {
     "data": {
      "image/png": "[encoded data removed]",
      "text/plain": [
       "<Figure size 800x600 with 1 Axes>"
      ]
     },
     "metadata": {},
     "output_type": "display_data"
    }
   ],
   "source": [
    "results = pd.DataFrame({'Actual': y_test, 'Predicted': y_prediction})\n",
    "\n",
    "# Plot a scatter plot\n",
    "plt.figure(figsize=(8, 6))\n",
    "plt.scatter(results.index, results['Actual'], color='blue', label='Actual', marker='o')\n",
    "plt.scatter(results.index, results['Predicted'], color='red', label='Predicted', marker='x')\n",
    "plt.title('Actual vs. Predicted Values')\n",
    "plt.xlabel('index')\n",
    "plt.ylabel('Lunch')\n",
    "plt.legend()\n",
    "plt.grid(True)\n",
    "plt.show()"
   ]
  },
  {
   "cell_type": "code",
   "execution_count": null,
   "id": "f9284fa5-c34c-4828-87b6-8402cccd1233",
   "metadata": {},
   "outputs": [],
   "source": []
  }
 ],
 "metadata": {
  "kernelspec": {
   "display_name": "Python 3 (ipykernel)",
   "language": "python",
   "name": "python3"
  },
  "language_info": {
   "codemirror_mode": {
    "name": "ipython",
    "version": 3
   },
   "file_extension": ".py",
   "mimetype": "text/x-python",
   "name": "python",
   "nbconvert_exporter": "python",
   "pygments_lexer": "ipython3",
   "version": "3.11.5"
  }
 },
 "nbformat": 4,
 "nbformat_minor": 5
}
